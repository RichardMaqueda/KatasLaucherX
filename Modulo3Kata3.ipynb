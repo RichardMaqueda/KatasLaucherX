{
 "cells": [
  {
   "cell_type": "markdown",
   "metadata": {},
   "source": [
    "## Problema No. 1"
   ]
  },
  {
   "cell_type": "code",
   "execution_count": 2,
   "metadata": {},
   "outputs": [
    {
     "name": "stdout",
     "output_type": "stream",
     "text": [
      "!Todo Tranquilo¡\n"
     ]
    }
   ],
   "source": [
    "# Añadir el código necesario para crear una variable que guarde la velocidad del asteroide.\n",
    "# Escribe una expresión de prueba para calcular si necesita una advertencia.\n",
    "# Agregue las instrucciones que se ejecutarán si la expresión de prueba es true o false.\n",
    "\n",
    "asteroide = 10\n",
    "if asteroide > 30:\n",
    "    print(\"!Peligro¡ Un Asteroide de Gran Magnitud se Acerca\")\n",
    "else:\n",
    "    print(\"!Todo Tranquilo¡\")"
   ]
  },
  {
   "cell_type": "markdown",
   "metadata": {},
   "source": [
    "## Problema No. 2"
   ]
  },
  {
   "cell_type": "code",
   "execution_count": 4,
   "metadata": {},
   "outputs": [
    {
     "name": "stdout",
     "output_type": "stream",
     "text": [
      "!Ey Mira Arribota de ti¡ !Hay una Gran Luz en el Cielo¡\n"
     ]
    }
   ],
   "source": [
    "# Agrega el código para crear una variable para un asteroide que viaja a 19 km/s\n",
    "# Escribe varias expresiones de prueba para determinar si puedes ver el rayo de luz desde la tierra\n",
    "# Agrega las instrucciones que se ejecutarán si las expresiones de prueba son True o False\n",
    "\n",
    "asteroide = 20\n",
    "if asteroide > 10:\n",
    "    print(\"!Ey Mira Arribota de ti¡ !Hay una Gran Luz en el Cielo¡\")\n",
    "elif asteroide == 10:\n",
    "    print(\"!Ey Mira Arribota de ti¡ !Hay una Gran Luz en el Cielo¡\")\n",
    "else:\n",
    "    print(\"Sin Novedad Alguna Carnal\")"
   ]
  },
  {
   "cell_type": "markdown",
   "metadata": {},
   "source": [
    "## Problema No. 3"
   ]
  },
  {
   "cell_type": "code",
   "execution_count": 6,
   "metadata": {},
   "outputs": [
    {
     "name": "stdout",
     "output_type": "stream",
     "text": [
      "!!!!Peligro¡¡¡, Un Gran Asteroide se dirije a la tierra\n"
     ]
    }
   ],
   "source": [
    "# Agrega el código para crear nuevas variables para la velocidad y el tamaño del asteroide\n",
    "# Para probar el código, prueba con varias velocidades y tamaños\n",
    "# Escribe varias expresiones de prueba o combinaciones de expresiones de prueba para determinar qué mensaje se debe enviar a Tierra.\n",
    "\n",
    "vel_asteroide = 25\n",
    "tam_asteroide = 60\n",
    "if vel_asteroide > 20 and tam_asteroide > 30:\n",
    "    print(\"!!!!Peligro¡¡¡, Un Gran Asteroide se dirije a la tierra\")\n",
    "elif vel_asteroide >= 10:\n",
    "    print(\"!Ey Mira Arribota de ti¡ !Hay una Gran Luz en el Cielo¡\")\n",
    "elif tam_asteroide < 15:\n",
    "    print(\"Sin Novedad Alguna Carnal\")\n",
    "else:\n",
    "    print(\"Sin Novedad Alguna Carnal\")\n"
   ]
  }
 ],
 "metadata": {
  "interpreter": {
   "hash": "7df2669c8df9356ab1570569a02f7c73ad97bd0def6f6c7d204a3f29c5c121e4"
  },
  "kernelspec": {
   "display_name": "Python 3.10.2 64-bit",
   "language": "python",
   "name": "python3"
  },
  "language_info": {
   "codemirror_mode": {
    "name": "ipython",
    "version": 3
   },
   "file_extension": ".py",
   "mimetype": "text/x-python",
   "name": "python",
   "nbconvert_exporter": "python",
   "pygments_lexer": "ipython3",
   "version": "3.10.2"
  },
  "orig_nbformat": 4
 },
 "nbformat": 4,
 "nbformat_minor": 2
}
